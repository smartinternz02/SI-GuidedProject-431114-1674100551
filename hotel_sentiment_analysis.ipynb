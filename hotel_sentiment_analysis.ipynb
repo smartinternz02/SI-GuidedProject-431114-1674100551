{
 "cells": [
  {
   "cell_type": "code",
   "execution_count": 1,
   "id": "5107ff7f",
   "metadata": {},
   "outputs": [],
   "source": [
    "import pandas as pd"
   ]
  },
  {
   "cell_type": "code",
   "execution_count": 2,
   "id": "e5909832",
   "metadata": {},
   "outputs": [
    {
     "data": {
      "text/html": [
       "<div>\n",
       "<style scoped>\n",
       "    .dataframe tbody tr th:only-of-type {\n",
       "        vertical-align: middle;\n",
       "    }\n",
       "\n",
       "    .dataframe tbody tr th {\n",
       "        vertical-align: top;\n",
       "    }\n",
       "\n",
       "    .dataframe thead th {\n",
       "        text-align: right;\n",
       "    }\n",
       "</style>\n",
       "<table border=\"1\" class=\"dataframe\">\n",
       "  <thead>\n",
       "    <tr style=\"text-align: right;\">\n",
       "      <th></th>\n",
       "      <th>Review</th>\n",
       "      <th>Rating</th>\n",
       "    </tr>\n",
       "  </thead>\n",
       "  <tbody>\n",
       "    <tr>\n",
       "      <th>0</th>\n",
       "      <td>nice hotel expensive parking got good deal sta...</td>\n",
       "      <td>4</td>\n",
       "    </tr>\n",
       "    <tr>\n",
       "      <th>1</th>\n",
       "      <td>ok nothing special charge diamond member hilto...</td>\n",
       "      <td>2</td>\n",
       "    </tr>\n",
       "    <tr>\n",
       "      <th>2</th>\n",
       "      <td>nice rooms not 4* experience hotel monaco seat...</td>\n",
       "      <td>3</td>\n",
       "    </tr>\n",
       "    <tr>\n",
       "      <th>3</th>\n",
       "      <td>unique, great stay, wonderful time hotel monac...</td>\n",
       "      <td>5</td>\n",
       "    </tr>\n",
       "    <tr>\n",
       "      <th>4</th>\n",
       "      <td>great stay great stay, went seahawk game aweso...</td>\n",
       "      <td>5</td>\n",
       "    </tr>\n",
       "  </tbody>\n",
       "</table>\n",
       "</div>"
      ],
      "text/plain": [
       "                                              Review  Rating\n",
       "0  nice hotel expensive parking got good deal sta...       4\n",
       "1  ok nothing special charge diamond member hilto...       2\n",
       "2  nice rooms not 4* experience hotel monaco seat...       3\n",
       "3  unique, great stay, wonderful time hotel monac...       5\n",
       "4  great stay great stay, went seahawk game aweso...       5"
      ]
     },
     "execution_count": 2,
     "metadata": {},
     "output_type": "execute_result"
    }
   ],
   "source": [
    "#read the csv review dataset\n",
    "import os, types\n",
    "import pandas as pd\n",
    "from botocore.client import Config\n",
    "import ibm_boto3\n",
    "\n",
    "def __iter__(self): return 0\n",
    "\n",
    "# @hidden_cell\n",
    "# The following code accesses a file in your IBM Cloud Object Storage. It includes your credentials.\n",
    "# You might want to remove those credentials before you share the notebook.\n",
    "cos_client = ibm_boto3.client(service_name='s3',\n",
    "    ibm_api_key_id='PcBfyIwGat2itUjt7RMWnbFW9Wt2mY8r2RCDr8320vDI',\n",
    "    ibm_auth_endpoint=\"https://iam.cloud.ibm.com/oidc/token\",\n",
    "    config=Config(signature_version='oauth'),\n",
    "    endpoint_url='https://s3.private.us-south.cloud-object-storage.appdomain.cloud')\n",
    "\n",
    "bucket = 'understandingguestperceptionsofho-donotdelete-pr-h52h40bibzzljq'\n",
    "object_key = 'hotel_reviews.csv'\n",
    "\n",
    "body = cos_client.get_object(Bucket=bucket,Key=object_key)['Body']\n",
    "# add missing __iter__ method, so pandas accepts body as file-like object\n",
    "if not hasattr(body, \"__iter__\"): body.__iter__ = types.MethodType( __iter__, body )\n",
    "\n",
    "trip = pd.read_csv(body)\n",
    "trip.head()\n"
   ]
  },
  {
   "cell_type": "code",
   "execution_count": 3,
   "id": "812e92c7",
   "metadata": {},
   "outputs": [],
   "source": [
    "# Let's create a new data frame\n",
    " \n",
    "trip = trip[(trip['Rating']==5)|(trip['Rating']==2)|(trip['Rating']==1)][['Review','Rating']]\n",
    "\n",
    "# Lets modify the Rating column\n",
    "trip['Rating'] = trip['Rating'].apply(lambda rating: 'Pos' if rating==5 else 'Neg')"
   ]
  },
  {
   "cell_type": "code",
   "execution_count": 4,
   "id": "ea5ad837",
   "metadata": {},
   "outputs": [
    {
     "data": {
      "text/html": [
       "<div>\n",
       "<style scoped>\n",
       "    .dataframe tbody tr th:only-of-type {\n",
       "        vertical-align: middle;\n",
       "    }\n",
       "\n",
       "    .dataframe tbody tr th {\n",
       "        vertical-align: top;\n",
       "    }\n",
       "\n",
       "    .dataframe thead th {\n",
       "        text-align: right;\n",
       "    }\n",
       "</style>\n",
       "<table border=\"1\" class=\"dataframe\">\n",
       "  <thead>\n",
       "    <tr style=\"text-align: right;\">\n",
       "      <th></th>\n",
       "      <th>index</th>\n",
       "      <th>Review</th>\n",
       "      <th>Rating</th>\n",
       "    </tr>\n",
       "  </thead>\n",
       "  <tbody>\n",
       "    <tr>\n",
       "      <th>0</th>\n",
       "      <td>1</td>\n",
       "      <td>ok nothing special charge diamond member hilto...</td>\n",
       "      <td>Neg</td>\n",
       "    </tr>\n",
       "    <tr>\n",
       "      <th>1</th>\n",
       "      <td>3</td>\n",
       "      <td>unique, great stay, wonderful time hotel monac...</td>\n",
       "      <td>Pos</td>\n",
       "    </tr>\n",
       "    <tr>\n",
       "      <th>2</th>\n",
       "      <td>4</td>\n",
       "      <td>great stay great stay, went seahawk game aweso...</td>\n",
       "      <td>Pos</td>\n",
       "    </tr>\n",
       "    <tr>\n",
       "      <th>3</th>\n",
       "      <td>5</td>\n",
       "      <td>love monaco staff husband stayed hotel crazy w...</td>\n",
       "      <td>Pos</td>\n",
       "    </tr>\n",
       "    <tr>\n",
       "      <th>4</th>\n",
       "      <td>6</td>\n",
       "      <td>cozy stay rainy city, husband spent 7 nights m...</td>\n",
       "      <td>Pos</td>\n",
       "    </tr>\n",
       "  </tbody>\n",
       "</table>\n",
       "</div>"
      ],
      "text/plain": [
       "   index                                             Review Rating\n",
       "0      1  ok nothing special charge diamond member hilto...    Neg\n",
       "1      3  unique, great stay, wonderful time hotel monac...    Pos\n",
       "2      4  great stay great stay, went seahawk game aweso...    Pos\n",
       "3      5  love monaco staff husband stayed hotel crazy w...    Pos\n",
       "4      6  cozy stay rainy city, husband spent 7 nights m...    Pos"
      ]
     },
     "execution_count": 4,
     "metadata": {},
     "output_type": "execute_result"
    }
   ],
   "source": [
    "# reseting the index because after removing some rows, the index gets crowded\n",
    "trip.reset_index(inplace=True)\n",
    "trip.head()"
   ]
  },
  {
   "cell_type": "code",
   "execution_count": 5,
   "id": "d34e7109",
   "metadata": {},
   "outputs": [
    {
     "data": {
      "text/plain": [
       "Pos    9054\n",
       "Neg    3214\n",
       "Name: Rating, dtype: int64"
      ]
     },
     "execution_count": 5,
     "metadata": {},
     "output_type": "execute_result"
    }
   ],
   "source": [
    "trip['Rating'].value_counts()"
   ]
  },
  {
   "cell_type": "code",
   "execution_count": 6,
   "id": "3e7bec59",
   "metadata": {},
   "outputs": [
    {
     "name": "stdout",
     "output_type": "stream",
     "text": [
      "Collecting nltk\n",
      "  Downloading nltk-3.8.1-py3-none-any.whl (1.5 MB)\n",
      "\u001b[2K     \u001b[90m━━━━━━━━━━━━━━━━━━━━━━━━━━━━━━━━━━━━━━━━\u001b[0m \u001b[32m1.5/1.5 MB\u001b[0m \u001b[31m74.1 MB/s\u001b[0m eta \u001b[36m0:00:00\u001b[0m\n",
      "\u001b[?25hRequirement already satisfied: joblib in /opt/conda/envs/Python-3.10/lib/python3.10/site-packages (from nltk) (1.1.1)\n",
      "Requirement already satisfied: tqdm in /opt/conda/envs/Python-3.10/lib/python3.10/site-packages (from nltk) (4.64.0)\n",
      "Collecting regex>=2021.8.3\n",
      "  Downloading regex-2022.10.31-cp310-cp310-manylinux_2_17_x86_64.manylinux2014_x86_64.whl (770 kB)\n",
      "\u001b[2K     \u001b[90m━━━━━━━━━━━━━━━━━━━━━━━━━━━━━━━━━━━━━━\u001b[0m \u001b[32m770.5/770.5 kB\u001b[0m \u001b[31m71.3 MB/s\u001b[0m eta \u001b[36m0:00:00\u001b[0m\n",
      "\u001b[?25hRequirement already satisfied: click in /opt/conda/envs/Python-3.10/lib/python3.10/site-packages (from nltk) (8.0.4)\n",
      "Installing collected packages: regex, nltk\n",
      "Successfully installed nltk-3.8.1 regex-2022.10.31\n",
      "Note: you may need to restart the kernel to use updated packages.\n"
     ]
    }
   ],
   "source": [
    "pip install nltk"
   ]
  },
  {
   "cell_type": "code",
   "execution_count": 7,
   "id": "4ceb1e1a",
   "metadata": {},
   "outputs": [],
   "source": [
    "#Data cleaning and preprocessing\n",
    "\n",
    "import re\n",
    "import nltk\n",
    "\n",
    "from nltk.corpus import stopwords\n",
    "from nltk.stem.porter import PorterStemmer\n",
    "from nltk.stem import WordNetLemmatizer"
   ]
  },
  {
   "cell_type": "code",
   "execution_count": 8,
   "id": "aacdfe2e",
   "metadata": {},
   "outputs": [
    {
     "name": "stderr",
     "output_type": "stream",
     "text": [
      "[nltk_data] Downloading package stopwords to /home/wsuser/nltk_data...\n",
      "[nltk_data]   Unzipping corpora/stopwords.zip.\n",
      "[nltk_data] Downloading package wordnet to /home/wsuser/nltk_data...\n"
     ]
    },
    {
     "data": {
      "text/plain": [
       "True"
      ]
     },
     "execution_count": 8,
     "metadata": {},
     "output_type": "execute_result"
    }
   ],
   "source": [
    "nltk.download('stopwords')\n",
    "nltk.download('wordnet')"
   ]
  },
  {
   "cell_type": "code",
   "execution_count": 9,
   "id": "def355d9",
   "metadata": {},
   "outputs": [],
   "source": [
    "# Lemmatization object\n",
    "ps = WordNetLemmatizer()\n",
    "corpus = []"
   ]
  },
  {
   "cell_type": "code",
   "execution_count": 10,
   "id": "249866c5",
   "metadata": {},
   "outputs": [],
   "source": [
    "# Text preprocessing\n",
    "# keep only text based\n",
    "# lower all the letters\n",
    "# split the words\n",
    "for i in range(0,len(trip)):\n",
    "    review = re.sub('[^a-zA-Z]',\" \",trip['Review'][i])\n",
    "    review = review.lower()\n",
    "    review = review.split()\n",
    "    review = [ps.lemmatize(word) for word in review if not word in stopwords.words('english')]\n",
    "    review = ' '.join(review)\n",
    "    corpus.append(review)"
   ]
  },
  {
   "cell_type": "code",
   "execution_count": 11,
   "id": "71eda984",
   "metadata": {},
   "outputs": [],
   "source": [
    "\n",
    "import os, types\n",
    "import pandas as pd\n",
    "from botocore.client import Config\n",
    "import ibm_boto3\n",
    "\n",
    "def __iter__(self): return 0\n",
    "\n",
    "# @hidden_cell\n",
    "# The following code accesses a file in your IBM Cloud Object Storage. It includes your credentials.\n",
    "# You might want to remove those credentials before you share the notebook.\n",
    "cos_client = ibm_boto3.client(service_name='s3',\n",
    "    ibm_api_key_id='PcBfyIwGat2itUjt7RMWnbFW9Wt2mY8r2RCDr8320vDI',\n",
    "    ibm_auth_endpoint=\"https://iam.cloud.ibm.com/oidc/token\",\n",
    "    config=Config(signature_version='oauth'),\n",
    "    endpoint_url='https://s3.private.us-south.cloud-object-storage.appdomain.cloud')\n",
    "\n",
    "bucket = 'understandingguestperceptionsofho-donotdelete-pr-h52h40bibzzljq'\n",
    "object_key = 'tdata.csv'\n",
    "\n",
    "body = cos_client.get_object(Bucket=bucket,Key=object_key)['Body']\n",
    "# add missing __iter__ method, so pandas accepts body as file-like object\n",
    "if not hasattr(body, \"__iter__\"): body.__iter__ = types.MethodType( __iter__, body )\n",
    "\n",
    "df_data_1 = pd.read_csv(body)\n",
    "df_data_1.head()\n",
    "\n",
    "trip.to_csv('df_data_1.csv', index = False)\n"
   ]
  },
  {
   "cell_type": "code",
   "execution_count": 12,
   "id": "944a13e3",
   "metadata": {},
   "outputs": [],
   "source": [
    "from sklearn.feature_extraction.text import CountVectorizer\n",
    "cv = CountVectorizer()"
   ]
  },
  {
   "cell_type": "code",
   "execution_count": 13,
   "id": "def22b3f",
   "metadata": {},
   "outputs": [],
   "source": [
    "X = cv.fit_transform(corpus).toarray()"
   ]
  },
  {
   "cell_type": "code",
   "execution_count": 14,
   "id": "d2eb5d1a",
   "metadata": {},
   "outputs": [
    {
     "data": {
      "text/plain": [
       "(12268, 34569)"
      ]
     },
     "execution_count": 14,
     "metadata": {},
     "output_type": "execute_result"
    }
   ],
   "source": [
    "X.shape"
   ]
  },
  {
   "cell_type": "code",
   "execution_count": 15,
   "id": "6426128d",
   "metadata": {},
   "outputs": [
    {
     "data": {
      "text/plain": [
       "array([0, 1, 1, ..., 0, 0, 0], dtype=uint8)"
      ]
     },
     "execution_count": 15,
     "metadata": {},
     "output_type": "execute_result"
    }
   ],
   "source": [
    "y = pd.get_dummies(trip['Rating'])\n",
    "y = y.iloc[:,1].values\n",
    "y"
   ]
  },
  {
   "cell_type": "code",
   "execution_count": 16,
   "id": "a793165e",
   "metadata": {},
   "outputs": [],
   "source": [
    "#train test split\n",
    "from sklearn.model_selection import train_test_split\n",
    "X_train, X_test,y_train,y_test = train_test_split(X,y,test_size=0.20,random_state=3)"
   ]
  },
  {
   "cell_type": "markdown",
   "id": "6f438fd9",
   "metadata": {},
   "source": [
    "Naive Bayes"
   ]
  },
  {
   "cell_type": "code",
   "execution_count": 17,
   "id": "58a18f60",
   "metadata": {},
   "outputs": [],
   "source": [
    "#Naive bayes classifier\n",
    "\n",
    "from sklearn.naive_bayes import MultinomialNB\n",
    "model1 = MultinomialNB().fit(X_train,y_train)\n",
    "\n",
    "# for the accuracy\n",
    "model1.score(X_test,y_test)\n",
    "\n",
    "y_pred = model1.predict(X_test)"
   ]
  },
  {
   "cell_type": "code",
   "execution_count": 18,
   "id": "d54013fe",
   "metadata": {},
   "outputs": [
    {
     "data": {
      "text/plain": [
       "array([[ 574,   69],\n",
       "       [  44, 1767]])"
      ]
     },
     "execution_count": 18,
     "metadata": {},
     "output_type": "execute_result"
    }
   ],
   "source": [
    "#compare y test and y_pred\n",
    "#confusion matrix is a 2x2 matrix and it tells,\n",
    "#how many number of elements are correctly predicted.\n",
    "\n",
    "from sklearn.metrics import confusion_matrix\n",
    "confusion_m = confusion_matrix(y_test,y_pred)\n",
    "\n",
    "confusion_m"
   ]
  },
  {
   "cell_type": "code",
   "execution_count": 19,
   "id": "84b7b6ee",
   "metadata": {},
   "outputs": [
    {
     "data": {
      "text/plain": [
       "0.9539527302363489"
      ]
     },
     "execution_count": 19,
     "metadata": {},
     "output_type": "execute_result"
    }
   ],
   "source": [
    "#checking accuracy score\n",
    "\n",
    "from sklearn.metrics import accuracy_score\n",
    "accuracy = accuracy_score(y_test,y_pred)\n",
    "\n",
    "accuracy"
   ]
  },
  {
   "cell_type": "code",
   "execution_count": 20,
   "id": "c96294a9",
   "metadata": {},
   "outputs": [
    {
     "data": {
      "text/plain": [
       "0.9624183006535948"
      ]
     },
     "execution_count": 20,
     "metadata": {},
     "output_type": "execute_result"
    }
   ],
   "source": [
    "#checking precision score\n",
    "\n",
    "from sklearn.metrics import precision_score\n",
    "precision_score(y_test,y_pred)"
   ]
  },
  {
   "cell_type": "code",
   "execution_count": 21,
   "id": "91f38c82",
   "metadata": {},
   "outputs": [
    {
     "data": {
      "text/plain": [
       "0.9757040309221424"
      ]
     },
     "execution_count": 21,
     "metadata": {},
     "output_type": "execute_result"
    }
   ],
   "source": [
    "#checking recall score\n",
    "\n",
    "from sklearn.metrics import recall_score\n",
    "recall_score(y_test,y_pred)"
   ]
  },
  {
   "cell_type": "code",
   "execution_count": 22,
   "id": "8be51346",
   "metadata": {},
   "outputs": [
    {
     "data": {
      "text/plain": [
       "0.9690156292843433"
      ]
     },
     "execution_count": 22,
     "metadata": {},
     "output_type": "execute_result"
    }
   ],
   "source": [
    "#checking f-beta score\n",
    "\n",
    "from sklearn.metrics import fbeta_score\n",
    "fbeta_score(y_test,y_pred,beta=1)"
   ]
  },
  {
   "cell_type": "code",
   "execution_count": 23,
   "id": "96e61ac6",
   "metadata": {},
   "outputs": [
    {
     "name": "stdout",
     "output_type": "stream",
     "text": [
      "Positive\n",
      "0.9689465878406804\n"
     ]
    }
   ],
   "source": [
    "# Checking the training model with custom input data\n",
    "message = \"the hotel was nice and comfy\"\n",
    "data = [message]\n",
    "vect = cv.transform(data).toarray()\n",
    "my_prediction = model1.predict(vect)\n",
    "my_prediction_prob = model1.predict_proba(vect)\n",
    "\n",
    "if my_prediction==1:\n",
    "    print(\"Positive\")\n",
    "    print(my_prediction_prob[0][1])\n",
    "else:\n",
    "    print(\"Negative\")\n",
    "    print(my_prediction_prob[0][0])"
   ]
  },
  {
   "cell_type": "code",
   "execution_count": 24,
   "id": "346b767a",
   "metadata": {},
   "outputs": [
    {
     "name": "stdout",
     "output_type": "stream",
     "text": [
      "Negative\n",
      "0.8445454685022524\n"
     ]
    }
   ],
   "source": [
    "message = \"the hotel was bad and the staff was rude\"\n",
    "data = [message]\n",
    "vect = cv.transform(data).toarray()\n",
    "my_prediction = model1.predict(vect)\n",
    "my_prediction_prob = model1.predict_proba(vect)\n",
    "\n",
    "if my_prediction==1:\n",
    "    print(\"Positive\")\n",
    "    print(my_prediction_prob[0][1])\n",
    "else:\n",
    "    print(\"Negative\")\n",
    "    print(my_prediction_prob[0][0])"
   ]
  },
  {
   "cell_type": "markdown",
   "id": "8c5f2143",
   "metadata": {},
   "source": [
    "Logistic Regression"
   ]
  },
  {
   "cell_type": "code",
   "execution_count": 25,
   "id": "03daa904",
   "metadata": {},
   "outputs": [],
   "source": [
    "from sklearn.linear_model import LogisticRegression\n",
    "\n",
    "logreg = LogisticRegression(solver='liblinear')"
   ]
  },
  {
   "cell_type": "code",
   "execution_count": 26,
   "id": "0f014713",
   "metadata": {},
   "outputs": [],
   "source": [
    "model2 = logreg.fit(X_train, y_train)"
   ]
  },
  {
   "cell_type": "code",
   "execution_count": 27,
   "id": "338e1f51",
   "metadata": {},
   "outputs": [],
   "source": [
    "y_pred_class = logreg.predict(X_test)"
   ]
  },
  {
   "cell_type": "code",
   "execution_count": 28,
   "id": "20c30e15",
   "metadata": {},
   "outputs": [],
   "source": [
    "from sklearn import metrics"
   ]
  },
  {
   "cell_type": "code",
   "execution_count": 29,
   "id": "d56fbc12",
   "metadata": {},
   "outputs": [
    {
     "data": {
      "text/plain": [
       "0.9539527302363489"
      ]
     },
     "execution_count": 29,
     "metadata": {},
     "output_type": "execute_result"
    }
   ],
   "source": [
    "metrics.accuracy_score(y_test, y_pred)"
   ]
  },
  {
   "cell_type": "code",
   "execution_count": 30,
   "id": "7b732814",
   "metadata": {},
   "outputs": [
    {
     "data": {
      "text/plain": [
       "0.9624183006535948"
      ]
     },
     "execution_count": 30,
     "metadata": {},
     "output_type": "execute_result"
    }
   ],
   "source": [
    "metrics.precision_score(y_test, y_pred)"
   ]
  },
  {
   "cell_type": "code",
   "execution_count": 31,
   "id": "4ba774a3",
   "metadata": {},
   "outputs": [
    {
     "data": {
      "text/plain": [
       "0.9624183006535948"
      ]
     },
     "execution_count": 31,
     "metadata": {},
     "output_type": "execute_result"
    }
   ],
   "source": [
    "metrics.precision_score(y_test, y_pred)"
   ]
  },
  {
   "cell_type": "code",
   "execution_count": 32,
   "id": "9cc90e16",
   "metadata": {},
   "outputs": [
    {
     "data": {
      "text/plain": [
       "0.9757040309221424"
      ]
     },
     "execution_count": 32,
     "metadata": {},
     "output_type": "execute_result"
    }
   ],
   "source": [
    "metrics.recall_score(y_test, y_pred)"
   ]
  },
  {
   "cell_type": "code",
   "execution_count": 33,
   "id": "48752af1",
   "metadata": {},
   "outputs": [
    {
     "data": {
      "text/plain": [
       "0.9690156292843433"
      ]
     },
     "execution_count": 33,
     "metadata": {},
     "output_type": "execute_result"
    }
   ],
   "source": [
    "metrics.fbeta_score(y_test, y_pred, beta=1)"
   ]
  },
  {
   "cell_type": "code",
   "execution_count": 34,
   "id": "6f7fa50e",
   "metadata": {},
   "outputs": [
    {
     "data": {
      "text/plain": [
       "0.9341972720707136"
      ]
     },
     "execution_count": 34,
     "metadata": {},
     "output_type": "execute_result"
    }
   ],
   "source": [
    "metrics.roc_auc_score(y_test, y_pred)"
   ]
  },
  {
   "cell_type": "code",
   "execution_count": 35,
   "id": "5e42d999",
   "metadata": {},
   "outputs": [
    {
     "name": "stdout",
     "output_type": "stream",
     "text": [
      "Collecting metrics\n",
      "  Downloading metrics-0.3.3.tar.gz (18 kB)\n",
      "  Preparing metadata (setup.py) ... \u001b[?25ldone\n",
      "\u001b[?25hCollecting Pygments==2.2.0\n",
      "  Downloading Pygments-2.2.0-py2.py3-none-any.whl (841 kB)\n",
      "\u001b[2K     \u001b[90m━━━━━━━━━━━━━━━━━━━━━━━━━━━━━━━━━━━━━━\u001b[0m \u001b[32m841.7/841.7 kB\u001b[0m \u001b[31m60.0 MB/s\u001b[0m eta \u001b[36m0:00:00\u001b[0m\n",
      "\u001b[?25hCollecting pathspec==0.5.5\n",
      "  Downloading pathspec-0.5.5.tar.gz (21 kB)\n",
      "  Preparing metadata (setup.py) ... \u001b[?25ldone\n",
      "\u001b[?25hCollecting pathlib2>=2.3.0\n",
      "  Downloading pathlib2-2.3.7.post1-py2.py3-none-any.whl (18 kB)\n",
      "Requirement already satisfied: six in /opt/conda/envs/Python-3.10/lib/python3.10/site-packages (from pathlib2>=2.3.0->metrics) (1.16.0)\n",
      "Building wheels for collected packages: metrics, pathspec\n",
      "  Building wheel for metrics (setup.py) ... \u001b[?25ldone\n",
      "\u001b[?25h  Created wheel for metrics: filename=metrics-0.3.3-py2.py3-none-any.whl size=17808 sha256=bb08669fedd3de55c472d5f150d7a4e4945d535e5ee9fc0791b47c81fe1c3786\n",
      "  Stored in directory: /tmp/wsuser/.cache/pip/wheels/29/7a/e7/1175d9ff10607b8f02aa37c32392cb28cdda0aea8fcc2b514b\n",
      "  Building wheel for pathspec (setup.py) ... \u001b[?25ldone\n",
      "\u001b[?25h  Created wheel for pathspec: filename=pathspec-0.5.5-py3-none-any.whl size=24233 sha256=fa391a8744656a77a41064dbe34301ddc45538a5072013755123c48355f521e4\n",
      "  Stored in directory: /tmp/wsuser/.cache/pip/wheels/28/d4/11/01ccd690e97b06874998aa554a8b2610c361900d2a7e038300\n",
      "Successfully built metrics pathspec\n",
      "Installing collected packages: Pygments, pathspec, pathlib2, metrics\n",
      "  Attempting uninstall: Pygments\n",
      "    Found existing installation: Pygments 2.11.2\n",
      "    Uninstalling Pygments-2.11.2:\n",
      "      Successfully uninstalled Pygments-2.11.2\n",
      "  Attempting uninstall: pathspec\n",
      "    Found existing installation: pathspec 0.9.0\n",
      "    Uninstalling pathspec-0.9.0:\n",
      "      Successfully uninstalled pathspec-0.9.0\n",
      "\u001b[31mERROR: pip's dependency resolver does not currently take into account all the packages that are installed. This behaviour is the source of the following dependency conflicts.\n",
      "ipython 8.4.0 requires pygments>=2.4.0, but you have pygments 2.2.0 which is incompatible.\n",
      "black 22.6.0 requires pathspec>=0.9.0, but you have pathspec 0.5.5 which is incompatible.\u001b[0m\u001b[31m\n",
      "\u001b[0mSuccessfully installed Pygments-2.2.0 metrics-0.3.3 pathlib2-2.3.7.post1 pathspec-0.5.5\n",
      "Note: you may need to restart the kernel to use updated packages.\n"
     ]
    }
   ],
   "source": [
    "pip install metrics"
   ]
  },
  {
   "cell_type": "code",
   "execution_count": 36,
   "id": "57b492f9",
   "metadata": {},
   "outputs": [
    {
     "data": {
      "text/plain": [
       "array([[ 574,   69],\n",
       "       [  44, 1767]])"
      ]
     },
     "execution_count": 36,
     "metadata": {},
     "output_type": "execute_result"
    }
   ],
   "source": [
    "metrics.confusion_matrix(y_test, y_pred)"
   ]
  },
  {
   "cell_type": "code",
   "execution_count": 37,
   "id": "d91f5682",
   "metadata": {},
   "outputs": [
    {
     "name": "stdout",
     "output_type": "stream",
     "text": [
      "Positive\n",
      "0.6713142877649974\n"
     ]
    }
   ],
   "source": [
    "message = \"cozy stay rainy city\"\n",
    "data = [message]\n",
    "vect = cv.transform(data).toarray()\n",
    "my_prediction = model2.predict(vect)\n",
    "my_prediction_prob = model2.predict_proba(vect)\n",
    "\n",
    "if my_prediction==1:\n",
    "    print(\"Positive\")\n",
    "    print(my_prediction_prob[0][1])\n",
    "else:\n",
    "    print(\"Negative\")\n",
    "    print(my_prediction_prob[0][0])"
   ]
  },
  {
   "cell_type": "code",
   "execution_count": 38,
   "id": "c8b799b6",
   "metadata": {},
   "outputs": [
    {
     "name": "stdout",
     "output_type": "stream",
     "text": [
      "Negative\n",
      "0.8996652277103434\n"
     ]
    }
   ],
   "source": [
    "message = \"the hotel was bad and the staff was rude\"\n",
    "data = [message]\n",
    "vect = cv.transform(data).toarray()\n",
    "my_prediction = model2.predict(vect)\n",
    "my_prediction_prob = model2.predict_proba(vect)\n",
    "\n",
    "if my_prediction==1:\n",
    "    print(\"Positive\")\n",
    "    print(my_prediction_prob[0][1])\n",
    "else:\n",
    "    print(\"Negative\")\n",
    "    print(my_prediction_prob[0][0])"
   ]
  },
  {
   "cell_type": "code",
   "execution_count": 39,
   "id": "1e2bd7cc",
   "metadata": {},
   "outputs": [],
   "source": [
    "# Dump the machine learning model outsite so you can use outsite and not retrain again and again\n",
    "import pickle\n",
    "\n",
    "#pickle file for logistic regression\n",
    "\n",
    "filename = 'logistic_regression_model.pkl'\n",
    "pickle.dump(model2, open(filename, 'wb'))\n",
    "pickle.dump(cv, open('tranform_logistic.pkl', 'wb'))"
   ]
  },
  {
   "cell_type": "code",
   "execution_count": 40,
   "id": "7d237786",
   "metadata": {},
   "outputs": [],
   "source": [
    "#pickle file for naive bayes\n",
    "\n",
    "filename = 'naive_bayes_model.pkl'\n",
    "pickle.dump(model1, open(filename, 'wb'))\n",
    "pickle.dump(cv, open('transform_naive.pkl', 'wb'))"
   ]
  },
  {
   "cell_type": "code",
   "execution_count": 41,
   "id": "47a2f182",
   "metadata": {},
   "outputs": [
    {
     "name": "stdout",
     "output_type": "stream",
     "text": [
      "Requirement already satisfied: ibm-watson-machine-learning in /opt/conda/envs/Python-3.10/lib/python3.10/site-packages (1.0.280)\n",
      "Collecting ibm-watson-machine-learning\n",
      "  Downloading ibm_watson_machine_learning-1.0.283-py3-none-any.whl (1.9 MB)\n",
      "\u001b[2K     \u001b[90m━━━━━━━━━━━━━━━━━━━━━━━━━━━━━━━━━━━━━━━━\u001b[0m \u001b[32m1.9/1.9 MB\u001b[0m \u001b[31m76.0 MB/s\u001b[0m eta \u001b[36m0:00:00\u001b[0m\n",
      "\u001b[?25hRequirement already satisfied: tabulate in /opt/conda/envs/Python-3.10/lib/python3.10/site-packages (from ibm-watson-machine-learning) (0.8.10)\n",
      "Requirement already satisfied: importlib-metadata in /opt/conda/envs/Python-3.10/lib/python3.10/site-packages (from ibm-watson-machine-learning) (4.11.3)\n",
      "Requirement already satisfied: requests in /opt/conda/envs/Python-3.10/lib/python3.10/site-packages (from ibm-watson-machine-learning) (2.28.1)\n",
      "Requirement already satisfied: packaging in /opt/conda/envs/Python-3.10/lib/python3.10/site-packages (from ibm-watson-machine-learning) (21.3)\n",
      "Requirement already satisfied: certifi in /opt/conda/envs/Python-3.10/lib/python3.10/site-packages (from ibm-watson-machine-learning) (2022.12.7)\n",
      "Requirement already satisfied: ibm-cos-sdk==2.12.* in /opt/conda/envs/Python-3.10/lib/python3.10/site-packages (from ibm-watson-machine-learning) (2.12.0)\n",
      "Requirement already satisfied: lomond in /opt/conda/envs/Python-3.10/lib/python3.10/site-packages (from ibm-watson-machine-learning) (0.3.3)\n",
      "Requirement already satisfied: urllib3 in /opt/conda/envs/Python-3.10/lib/python3.10/site-packages (from ibm-watson-machine-learning) (1.26.11)\n",
      "Requirement already satisfied: pandas<1.5.0,>=0.24.2 in /opt/conda/envs/Python-3.10/lib/python3.10/site-packages (from ibm-watson-machine-learning) (1.4.3)\n",
      "Requirement already satisfied: jmespath<1.0.0,>=0.10.0 in /opt/conda/envs/Python-3.10/lib/python3.10/site-packages (from ibm-cos-sdk==2.12.*->ibm-watson-machine-learning) (0.10.0)\n",
      "Requirement already satisfied: ibm-cos-sdk-s3transfer==2.12.0 in /opt/conda/envs/Python-3.10/lib/python3.10/site-packages (from ibm-cos-sdk==2.12.*->ibm-watson-machine-learning) (2.12.0)\n",
      "Requirement already satisfied: ibm-cos-sdk-core==2.12.0 in /opt/conda/envs/Python-3.10/lib/python3.10/site-packages (from ibm-cos-sdk==2.12.*->ibm-watson-machine-learning) (2.12.0)\n",
      "Requirement already satisfied: python-dateutil<3.0.0,>=2.8.2 in /opt/conda/envs/Python-3.10/lib/python3.10/site-packages (from ibm-cos-sdk-core==2.12.0->ibm-cos-sdk==2.12.*->ibm-watson-machine-learning) (2.8.2)\n",
      "Requirement already satisfied: pytz>=2020.1 in /opt/conda/envs/Python-3.10/lib/python3.10/site-packages (from pandas<1.5.0,>=0.24.2->ibm-watson-machine-learning) (2022.1)\n",
      "Requirement already satisfied: numpy>=1.21.0 in /opt/conda/envs/Python-3.10/lib/python3.10/site-packages (from pandas<1.5.0,>=0.24.2->ibm-watson-machine-learning) (1.23.1)\n",
      "Requirement already satisfied: charset-normalizer<3,>=2 in /opt/conda/envs/Python-3.10/lib/python3.10/site-packages (from requests->ibm-watson-machine-learning) (2.0.4)\n",
      "Requirement already satisfied: idna<4,>=2.5 in /opt/conda/envs/Python-3.10/lib/python3.10/site-packages (from requests->ibm-watson-machine-learning) (3.3)\n",
      "Requirement already satisfied: zipp>=0.5 in /opt/conda/envs/Python-3.10/lib/python3.10/site-packages (from importlib-metadata->ibm-watson-machine-learning) (3.8.0)\n",
      "Requirement already satisfied: six>=1.10.0 in /opt/conda/envs/Python-3.10/lib/python3.10/site-packages (from lomond->ibm-watson-machine-learning) (1.16.0)\n",
      "Requirement already satisfied: pyparsing!=3.0.5,>=2.0.2 in /opt/conda/envs/Python-3.10/lib/python3.10/site-packages (from packaging->ibm-watson-machine-learning) (3.0.9)\n",
      "Installing collected packages: ibm-watson-machine-learning\n",
      "  Attempting uninstall: ibm-watson-machine-learning\n",
      "    Found existing installation: ibm-watson-machine-learning 1.0.280\n",
      "    Uninstalling ibm-watson-machine-learning-1.0.280:\n",
      "      Successfully uninstalled ibm-watson-machine-learning-1.0.280\n",
      "Successfully installed ibm-watson-machine-learning-1.0.283\n",
      "tar: parkinson.pkl: Cannot stat: No such file or directory\n",
      "tar: Exiting with failure status due to previous errors\n"
     ]
    }
   ],
   "source": [
    "!pip install -U ibm-watson-machine-learning\n",
    "!tar -zcvf hotel_reviews_model.tgz parkinson.pkl\n"
   ]
  },
  {
   "cell_type": "code",
   "execution_count": 45,
   "id": "71010c5d",
   "metadata": {},
   "outputs": [],
   "source": [
    "from ibm_watson_machine_learning import APIClient\n",
    "wml_credentials={\"url\":\"https://us-south.ml.cloud.ibm.com\", \n",
    "                 \"apikey\": \"8BhFIxrwf72Px-O8ISOSgsCj43vy4EUmweTYxJmr9fan\"\n",
    "                }\n",
    "client=APIClient(wml_credentials)"
   ]
  },
  {
   "cell_type": "code",
   "execution_count": 46,
   "id": "ed6b0d4b",
   "metadata": {},
   "outputs": [],
   "source": [
    "def guide_from_space_name(client,space_name):\n",
    "    space=client.spaces.get_details()\n",
    "    return(next(item for item in space['resources']if item['entity'][\"name\"]==space_name)['metadata']['id'])"
   ]
  },
  {
   "cell_type": "code",
   "execution_count": 48,
   "id": "6e592d9a",
   "metadata": {},
   "outputs": [
    {
     "name": "stdout",
     "output_type": "stream",
     "text": [
      "Space UID =a57419a5-04d7-4958-85ad-7593d1c31baa\n"
     ]
    }
   ],
   "source": [
    "space_uid=guide_from_space_name(client,'hotel_deploy')\n",
    "print(\"Space UID =\" + space_uid)"
   ]
  },
  {
   "cell_type": "code",
   "execution_count": 49,
   "id": "c7316d5d",
   "metadata": {},
   "outputs": [
    {
     "data": {
      "text/plain": [
       "'SUCCESS'"
      ]
     },
     "execution_count": 49,
     "metadata": {},
     "output_type": "execute_result"
    }
   ],
   "source": [
    "client.set.default_space(space_uid)\n"
   ]
  },
  {
   "cell_type": "code",
   "execution_count": 50,
   "id": "4e8d57d9",
   "metadata": {},
   "outputs": [
    {
     "name": "stdout",
     "output_type": "stream",
     "text": [
      "-----------------------------  ------------------------------------  ----  ------------------  -------------------------------\n",
      "NAME                           ID                                    TYPE  STATE               REPLACEMENT\n",
      "default_py3.6                  0062b8c9-8b7d-44a0-a9b9-46c416adcbd9  base  unsupported         runtime-22.1-py3.9\n",
      "kernel-spark3.2-scala2.12      020d69ce-7ac1-5e68-ac1a-31189867356a  base  not_provided\n",
      "pytorch-onnx_1.3-py3.7-edt     069ea134-3346-5748-b513-49120e15d288  base  not_provided\n",
      "scikit-learn_0.20-py3.6        09c5a1d0-9c1e-4473-a344-eb7b665ff687  base  unsupported         runtime-22.1-py3.9\n",
      "spark-mllib_3.0-scala_2.12     09f4cff0-90a7-5899-b9ed-1ef348aebdee  base  unsupported\n",
      "pytorch-onnx_rt22.1-py3.9      0b848dd4-e681-5599-be41-b5f6fccc6471  base  supported\n",
      "ai-function_0.1-py3.6          0cdb0f1e-5376-4f4d-92dd-da3b69aa9bda  base  unsupported         runtime-22.1-py3.9\n",
      "shiny-r3.6                     0e6e79df-875e-4f24-8ae9-62dcc2148306  base  not_provided\n",
      "tensorflow_2.4-py3.7-horovod   1092590a-307d-563d-9b62-4eb7d64b3f22  base  unsupported         tensorflow_rt22.1-py3.9-horovod\n",
      "pytorch_1.1-py3.6              10ac12d6-6b30-4ccd-8392-3e922c096a92  base  unsupported\n",
      "tensorflow_1.15-py3.6-ddl      111e41b3-de2d-5422-a4d6-bf776828c4b7  base  unsupported\n",
      "autoai-kb_rt22.2-py3.10        125b6d9a-5b1f-5e8d-972a-b251688ccf40  base  supported\n",
      "runtime-22.1-py3.9             12b83a17-24d8-5082-900f-0ab31fbfd3cb  base  supported\n",
      "scikit-learn_0.22-py3.6        154010fa-5b3b-4ac1-82af-4d5ee5abbc85  base  unsupported         runtime-22.1-py3.9\n",
      "default_r3.6                   1b70aec3-ab34-4b87-8aa0-a4a3c8296a36  base  deprecated\n",
      "pytorch-onnx_1.3-py3.6         1bc6029a-cc97-56da-b8e0-39c3880dbbe7  base  unsupported         runtime-22.1-py3.9\n",
      "kernel-spark3.3-r3.6           1c9e5454-f216-59dd-a20e-474a5cdf5988  base  not_provided\n",
      "pytorch-onnx_rt22.1-py3.9-edt  1d362186-7ad5-5b59-8b6c-9d0880bde37f  base  supported\n",
      "tensorflow_2.1-py3.6           1eb25b84-d6ed-5dde-b6a5-3fbdf1665666  base  unsupported         runtime-22.1-py3.9\n",
      "spark-mllib_3.2                20047f72-0a98-58c7-9ff5-a77b012eb8f5  base  unsupported         spark-mllib_3.3\n",
      "tensorflow_2.4-py3.8-horovod   217c16f6-178f-56bf-824a-b19f20564c49  base  unsupported         tensorflow_rt22.1-py3.9-horovod\n",
      "runtime-22.1-py3.9-cuda        26215f05-08c3-5a41-a1b0-da66306ce658  base  supported\n",
      "do_py3.8                       295addb5-9ef9-547e-9bf4-92ae3563e720  base  not_provided\n",
      "autoai-ts_3.8-py3.8            2aa0c932-798f-5ae9-abd6-15e0c2402fb5  base  unsupported         autoai-ts_rt22.1-py3.9\n",
      "tensorflow_1.15-py3.6          2b73a275-7cbf-420b-a912-eae7f436e0bc  base  unsupported         runtime-22.1-py3.9\n",
      "kernel-spark3.3-py3.9          2b7961e2-e3b1-5a8c-a491-482c8368839a  base  not_provided\n",
      "pytorch_1.2-py3.6              2c8ef57d-2687-4b7d-acce-01f94976dac1  base  unsupported         runtime-22.1-py3.9\n",
      "spark-mllib_2.3                2e51f700-bca0-4b0d-88dc-5c6791338875  base  create-unsupported  spark-mllib_3.3\n",
      "pytorch-onnx_1.1-py3.6-edt     32983cea-3f32-4400-8965-dde874a8d67e  base  unsupported\n",
      "spark-mllib_3.0-py37           36507ebe-8770-55ba-ab2a-eafe787600e9  base  unsupported         spark-mllib_3.3\n",
      "spark-mllib_2.4                390d21f8-e58b-4fac-9c55-d7ceda621326  base  unsupported         spark-mllib_3.3\n",
      "autoai-ts_rt22.2-py3.10        396b2e83-0953-5b86-9a55-7ce1628a406f  base  supported\n",
      "xgboost_0.82-py3.6             39e31acd-5f30-41dc-ae44-60233c80306e  base  unsupported         runtime-22.1-py3.9\n",
      "pytorch-onnx_1.2-py3.6-edt     40589d0e-7019-4e28-8daa-fb03b6f4fe12  base  unsupported\n",
      "pytorch-onnx_rt22.2-py3.10     40e73f55-783a-5535-b3fa-0c8b94291431  base  supported\n",
      "default_r36py38                41c247d3-45f8-5a71-b065-8580229facf0  base  not_provided\n",
      "autoai-ts_rt22.1-py3.9         4269d26e-07ba-5d40-8f66-2d495b0c71f7  base  supported\n",
      "autoai-obm_3.0                 42b92e18-d9ab-567f-988a-4240ba1ed5f7  base  unsupported         autoai-obm_3.2\n",
      "pmml-3.0_4.3                   493bcb95-16f1-5bc5-bee8-81b8af80e9c7  base  supported\n",
      "spark-mllib_2.4-r_3.6          49403dff-92e9-4c87-a3d7-a42d0021c095  base  unsupported         spark-mllib_3.3\n",
      "xgboost_0.90-py3.6             4ff8d6c2-1343-4c18-85e1-689c965304d3  base  unsupported         runtime-22.1-py3.9\n",
      "pytorch-onnx_1.1-py3.6         50f95b2a-bc16-43bb-bc94-b0bed208c60b  base  unsupported         runtime-22.1-py3.9\n",
      "autoai-ts_3.9-py3.8            52c57136-80fa-572e-8728-a5e7cbb42cde  base  unsupported         autoai-ts_rt22.1-py3.9\n",
      "spark-mllib_2.4-scala_2.11     55a70f99-7320-4be5-9fb9-9edb5a443af5  base  unsupported         spark-mllib_3.3\n",
      "spark-mllib_3.0                5c1b0ca2-4977-5c2e-9439-ffd44ea8ffe9  base  unsupported         spark-mllib_3.3\n",
      "autoai-obm_2.0                 5c2e37fa-80b8-5e77-840f-d912469614ee  base  unsupported         autoai-obm_3.2\n",
      "spss-modeler_18.1              5c3cad7e-507f-4b2a-a9a3-ab53a21dee8b  base  supported\n",
      "cuda-py3.8                     5d3232bf-c86b-5df4-a2cd-7bb870a1cd4e  base  not_provided\n",
      "runtime-22.2-py3.10-xc         5e8cddff-db4a-5a6a-b8aa-2d4af9864dab  base  supported\n",
      "autoai-kb_3.1-py3.7            632d4b22-10aa-5180-88f0-f52dfb6444d7  base  unsupported         autoai-kb_rt22.1-py3.9\n",
      "-----------------------------  ------------------------------------  ----  ------------------  -------------------------------\n",
      "Note: Only first 50 records were displayed. To display more use 'limit' parameter.\n"
     ]
    }
   ],
   "source": [
    "client.software_specifications.list()\n"
   ]
  },
  {
   "cell_type": "code",
   "execution_count": 54,
   "id": "85cb5d1a",
   "metadata": {},
   "outputs": [
    {
     "data": {
      "text/plain": [
       "'12b83a17-24d8-5082-900f-0ab31fbfd3cb'"
      ]
     },
     "execution_count": 54,
     "metadata": {},
     "output_type": "execute_result"
    }
   ],
   "source": [
    "software_spec_uid=client.software_specifications.get_uid_by_name(\"runtime-22.1-py3.9\")\n",
    "software_spec_uid"
   ]
  },
  {
   "cell_type": "code",
   "execution_count": 56,
   "id": "813a6ff7",
   "metadata": {},
   "outputs": [],
   "source": [
    "model_details=client.repository.store_model(model='hotel_reviews_model.tgz',meta_props={\n",
    "    client.repository.ModelMetaNames.NAME:\"hotel_model\",\n",
    "    client.repository.ModelMetaNames.TYPE:\"scikit-learn_1.0\",\n",
    "    client.repository.ModelMetaNames.SOFTWARE_SPEC_UID:software_spec_uid})\n",
    "model_id=client.repository.get_model_id(model_details)"
   ]
  },
  {
   "cell_type": "code",
   "execution_count": 57,
   "id": "4d2d2bdf",
   "metadata": {},
   "outputs": [
    {
     "data": {
      "text/plain": [
       "'abd5826b-6a7b-4e14-8edf-d0e276c63dd8'"
      ]
     },
     "execution_count": 57,
     "metadata": {},
     "output_type": "execute_result"
    }
   ],
   "source": [
    "model_id"
   ]
  },
  {
   "cell_type": "code",
   "execution_count": 63,
   "id": "97b67be2",
   "metadata": {},
   "outputs": [
    {
     "name": "stderr",
     "output_type": "stream",
     "text": [
      "File with name: 'hotel.tar.gz' already exists.\n"
     ]
    },
    {
     "ename": "WMLClientError",
     "evalue": "File with name: 'hotel.tar.gz' already exists.",
     "output_type": "error",
     "traceback": [
      "\u001b[0;31m---------------------------------------------------------------------------\u001b[0m",
      "\u001b[0;31mWMLClientError\u001b[0m                            Traceback (most recent call last)",
      "Input \u001b[0;32mIn [63]\u001b[0m, in \u001b[0;36m<cell line: 1>\u001b[0;34m()\u001b[0m\n\u001b[0;32m----> 1\u001b[0m \u001b[43mclient\u001b[49m\u001b[38;5;241;43m.\u001b[39;49m\u001b[43mrepository\u001b[49m\u001b[38;5;241;43m.\u001b[39;49m\u001b[43mdownload\u001b[49m\u001b[43m(\u001b[49m\u001b[38;5;124;43m\"\u001b[39;49m\u001b[38;5;124;43mabd5826b-6a7b-4e14-8edf-d0e276c63dd8\u001b[39;49m\u001b[38;5;124;43m\"\u001b[39;49m\u001b[43m,\u001b[49m\u001b[38;5;124;43m\"\u001b[39;49m\u001b[38;5;124;43mhotel.tar.gz\u001b[39;49m\u001b[38;5;124;43m\"\u001b[39;49m\u001b[43m)\u001b[49m\n",
      "File \u001b[0;32m/opt/conda/envs/Python-3.10/lib/python3.10/site-packages/ibm_watson_machine_learning/repository.py:341\u001b[0m, in \u001b[0;36mRepository.download\u001b[0;34m(self, artifact_uid, filename, rev_uid, format)\u001b[0m\n\u001b[1;32m    338\u001b[0m res \u001b[38;5;241m=\u001b[39m \u001b[38;5;28mself\u001b[39m\u001b[38;5;241m.\u001b[39m_check_artifact_type(artifact_uid)\n\u001b[1;32m    340\u001b[0m \u001b[38;5;28;01mif\u001b[39;00m res[\u001b[38;5;124m'\u001b[39m\u001b[38;5;124mmodel\u001b[39m\u001b[38;5;124m'\u001b[39m] \u001b[38;5;129;01mis\u001b[39;00m \u001b[38;5;28;01mTrue\u001b[39;00m:\n\u001b[0;32m--> 341\u001b[0m     \u001b[38;5;28;01mreturn\u001b[39;00m \u001b[38;5;28;43mself\u001b[39;49m\u001b[38;5;241;43m.\u001b[39;49m\u001b[43m_client\u001b[49m\u001b[38;5;241;43m.\u001b[39;49m\u001b[43m_models\u001b[49m\u001b[38;5;241;43m.\u001b[39;49m\u001b[43mdownload\u001b[49m\u001b[43m(\u001b[49m\u001b[43martifact_uid\u001b[49m\u001b[43m,\u001b[49m\u001b[43m \u001b[49m\u001b[43mfilename\u001b[49m\u001b[43m,\u001b[49m\u001b[43m \u001b[49m\u001b[43mrev_uid\u001b[49m\u001b[43m,\u001b[49m\u001b[38;5;28;43mformat\u001b[39;49m\u001b[43m)\u001b[49m\n\u001b[1;32m    342\u001b[0m \u001b[38;5;28;01melif\u001b[39;00m res[\u001b[38;5;124m'\u001b[39m\u001b[38;5;124mfunction\u001b[39m\u001b[38;5;124m'\u001b[39m] \u001b[38;5;129;01mis\u001b[39;00m \u001b[38;5;28;01mTrue\u001b[39;00m:\n\u001b[1;32m    343\u001b[0m     \u001b[38;5;28;01mreturn\u001b[39;00m \u001b[38;5;28mself\u001b[39m\u001b[38;5;241m.\u001b[39m_client\u001b[38;5;241m.\u001b[39m_functions\u001b[38;5;241m.\u001b[39mdownload(artifact_uid, filename, rev_uid)\n",
      "File \u001b[0;32m/opt/conda/envs/Python-3.10/lib/python3.10/site-packages/ibm_watson_machine_learning/models.py:1902\u001b[0m, in \u001b[0;36mModels.download\u001b[0;34m(self, model_uid, filename, rev_uid, format)\u001b[0m\n\u001b[1;32m   1881\u001b[0m \u001b[38;5;124;03m\"\"\"Download model from repository to local file.\u001b[39;00m\n\u001b[1;32m   1882\u001b[0m \n\u001b[1;32m   1883\u001b[0m \u001b[38;5;124;03m:param model_uid: stored model UID\u001b[39;00m\n\u001b[0;32m   (...)\u001b[0m\n\u001b[1;32m   1899\u001b[0m \u001b[38;5;124;03m    client.models.download(model_uid, 'my_model.tar.gz')\u001b[39;00m\n\u001b[1;32m   1900\u001b[0m \u001b[38;5;124;03m\"\"\"\u001b[39;00m\n\u001b[1;32m   1901\u001b[0m \u001b[38;5;28;01mif\u001b[39;00m os\u001b[38;5;241m.\u001b[39mpath\u001b[38;5;241m.\u001b[39misfile(filename):\n\u001b[0;32m-> 1902\u001b[0m     \u001b[38;5;28;01mraise\u001b[39;00m WMLClientError(\u001b[38;5;124mu\u001b[39m\u001b[38;5;124m'\u001b[39m\u001b[38;5;124mFile with name: \u001b[39m\u001b[38;5;130;01m\\'\u001b[39;00m\u001b[38;5;132;01m{}\u001b[39;00m\u001b[38;5;130;01m\\'\u001b[39;00m\u001b[38;5;124m already exists.\u001b[39m\u001b[38;5;124m'\u001b[39m\u001b[38;5;241m.\u001b[39mformat(filename))\n\u001b[1;32m   1903\u001b[0m \u001b[38;5;28;01mif\u001b[39;00m rev_uid \u001b[38;5;129;01mis\u001b[39;00m \u001b[38;5;129;01mnot\u001b[39;00m \u001b[38;5;28;01mNone\u001b[39;00m \u001b[38;5;129;01mand\u001b[39;00m \u001b[38;5;129;01mnot\u001b[39;00m \u001b[38;5;28mself\u001b[39m\u001b[38;5;241m.\u001b[39m_client\u001b[38;5;241m.\u001b[39mCLOUD_PLATFORM_SPACES\\\n\u001b[1;32m   1904\u001b[0m         \u001b[38;5;129;01mand\u001b[39;00m \u001b[38;5;28mself\u001b[39m\u001b[38;5;241m.\u001b[39m_client\u001b[38;5;241m.\u001b[39mICP_35 \u001b[38;5;129;01mis\u001b[39;00m \u001b[38;5;28;01mNone\u001b[39;00m \u001b[38;5;129;01mand\u001b[39;00m \u001b[38;5;28mself\u001b[39m\u001b[38;5;241m.\u001b[39m_client\u001b[38;5;241m.\u001b[39mICP_40 \u001b[38;5;129;01mis\u001b[39;00m \u001b[38;5;28;01mNone\u001b[39;00m \u001b[38;5;129;01mand\u001b[39;00m \u001b[38;5;28mself\u001b[39m\u001b[38;5;241m.\u001b[39m_client\u001b[38;5;241m.\u001b[39mICP_45 \u001b[38;5;129;01mis\u001b[39;00m \u001b[38;5;28;01mNone\u001b[39;00m \\\n\u001b[1;32m   1905\u001b[0m         \u001b[38;5;129;01mand\u001b[39;00m \u001b[38;5;28mself\u001b[39m\u001b[38;5;241m.\u001b[39m_client\u001b[38;5;241m.\u001b[39mICP_46 \u001b[38;5;129;01mis\u001b[39;00m \u001b[38;5;28;01mNone\u001b[39;00m:\n\u001b[1;32m   1906\u001b[0m     \u001b[38;5;28;01mraise\u001b[39;00m WMLClientError(\u001b[38;5;124mu\u001b[39m\u001b[38;5;124m'\u001b[39m\u001b[38;5;124mApplicable only for IBM Cloud Pak® For Data 3.0 onwards\u001b[39m\u001b[38;5;124m'\u001b[39m)\n",
      "\u001b[0;31mWMLClientError\u001b[0m: File with name: 'hotel.tar.gz' already exists."
     ]
    }
   ],
   "source": [
    "client.repository.download(\"abd5826b-6a7b-4e14-8edf-d0e276c63dd8\",\"hotel.tar.gz\")\n"
   ]
  },
  {
   "cell_type": "code",
   "execution_count": 62,
   "id": "3443bb19",
   "metadata": {},
   "outputs": [
    {
     "name": "stderr",
     "output_type": "stream",
     "text": [
      "File with name: 'hotel_reviews_lr_model.tar.gz' already exists.\n"
     ]
    },
    {
     "ename": "WMLClientError",
     "evalue": "File with name: 'hotel_reviews_lr_model.tar.gz' already exists.",
     "output_type": "error",
     "traceback": [
      "\u001b[0;31m---------------------------------------------------------------------------\u001b[0m",
      "\u001b[0;31mWMLClientError\u001b[0m                            Traceback (most recent call last)",
      "Input \u001b[0;32mIn [62]\u001b[0m, in \u001b[0;36m<cell line: 1>\u001b[0;34m()\u001b[0m\n\u001b[0;32m----> 1\u001b[0m \u001b[43mclient\u001b[49m\u001b[38;5;241;43m.\u001b[39;49m\u001b[43mrepository\u001b[49m\u001b[38;5;241;43m.\u001b[39;49m\u001b[43mdownload\u001b[49m\u001b[43m(\u001b[49m\u001b[38;5;124;43m\"\u001b[39;49m\u001b[38;5;124;43mabd5826b-6a7b-4e14-8edf-d0e276c63dd8\u001b[39;49m\u001b[38;5;124;43m\"\u001b[39;49m\u001b[43m,\u001b[49m\u001b[38;5;124;43m\"\u001b[39;49m\u001b[38;5;124;43mhotel_reviews_lr_model.tar.gz\u001b[39;49m\u001b[38;5;124;43m\"\u001b[39;49m\u001b[43m)\u001b[49m\n",
      "File \u001b[0;32m/opt/conda/envs/Python-3.10/lib/python3.10/site-packages/ibm_watson_machine_learning/repository.py:341\u001b[0m, in \u001b[0;36mRepository.download\u001b[0;34m(self, artifact_uid, filename, rev_uid, format)\u001b[0m\n\u001b[1;32m    338\u001b[0m res \u001b[38;5;241m=\u001b[39m \u001b[38;5;28mself\u001b[39m\u001b[38;5;241m.\u001b[39m_check_artifact_type(artifact_uid)\n\u001b[1;32m    340\u001b[0m \u001b[38;5;28;01mif\u001b[39;00m res[\u001b[38;5;124m'\u001b[39m\u001b[38;5;124mmodel\u001b[39m\u001b[38;5;124m'\u001b[39m] \u001b[38;5;129;01mis\u001b[39;00m \u001b[38;5;28;01mTrue\u001b[39;00m:\n\u001b[0;32m--> 341\u001b[0m     \u001b[38;5;28;01mreturn\u001b[39;00m \u001b[38;5;28;43mself\u001b[39;49m\u001b[38;5;241;43m.\u001b[39;49m\u001b[43m_client\u001b[49m\u001b[38;5;241;43m.\u001b[39;49m\u001b[43m_models\u001b[49m\u001b[38;5;241;43m.\u001b[39;49m\u001b[43mdownload\u001b[49m\u001b[43m(\u001b[49m\u001b[43martifact_uid\u001b[49m\u001b[43m,\u001b[49m\u001b[43m \u001b[49m\u001b[43mfilename\u001b[49m\u001b[43m,\u001b[49m\u001b[43m \u001b[49m\u001b[43mrev_uid\u001b[49m\u001b[43m,\u001b[49m\u001b[38;5;28;43mformat\u001b[39;49m\u001b[43m)\u001b[49m\n\u001b[1;32m    342\u001b[0m \u001b[38;5;28;01melif\u001b[39;00m res[\u001b[38;5;124m'\u001b[39m\u001b[38;5;124mfunction\u001b[39m\u001b[38;5;124m'\u001b[39m] \u001b[38;5;129;01mis\u001b[39;00m \u001b[38;5;28;01mTrue\u001b[39;00m:\n\u001b[1;32m    343\u001b[0m     \u001b[38;5;28;01mreturn\u001b[39;00m \u001b[38;5;28mself\u001b[39m\u001b[38;5;241m.\u001b[39m_client\u001b[38;5;241m.\u001b[39m_functions\u001b[38;5;241m.\u001b[39mdownload(artifact_uid, filename, rev_uid)\n",
      "File \u001b[0;32m/opt/conda/envs/Python-3.10/lib/python3.10/site-packages/ibm_watson_machine_learning/models.py:1902\u001b[0m, in \u001b[0;36mModels.download\u001b[0;34m(self, model_uid, filename, rev_uid, format)\u001b[0m\n\u001b[1;32m   1881\u001b[0m \u001b[38;5;124;03m\"\"\"Download model from repository to local file.\u001b[39;00m\n\u001b[1;32m   1882\u001b[0m \n\u001b[1;32m   1883\u001b[0m \u001b[38;5;124;03m:param model_uid: stored model UID\u001b[39;00m\n\u001b[0;32m   (...)\u001b[0m\n\u001b[1;32m   1899\u001b[0m \u001b[38;5;124;03m    client.models.download(model_uid, 'my_model.tar.gz')\u001b[39;00m\n\u001b[1;32m   1900\u001b[0m \u001b[38;5;124;03m\"\"\"\u001b[39;00m\n\u001b[1;32m   1901\u001b[0m \u001b[38;5;28;01mif\u001b[39;00m os\u001b[38;5;241m.\u001b[39mpath\u001b[38;5;241m.\u001b[39misfile(filename):\n\u001b[0;32m-> 1902\u001b[0m     \u001b[38;5;28;01mraise\u001b[39;00m WMLClientError(\u001b[38;5;124mu\u001b[39m\u001b[38;5;124m'\u001b[39m\u001b[38;5;124mFile with name: \u001b[39m\u001b[38;5;130;01m\\'\u001b[39;00m\u001b[38;5;132;01m{}\u001b[39;00m\u001b[38;5;130;01m\\'\u001b[39;00m\u001b[38;5;124m already exists.\u001b[39m\u001b[38;5;124m'\u001b[39m\u001b[38;5;241m.\u001b[39mformat(filename))\n\u001b[1;32m   1903\u001b[0m \u001b[38;5;28;01mif\u001b[39;00m rev_uid \u001b[38;5;129;01mis\u001b[39;00m \u001b[38;5;129;01mnot\u001b[39;00m \u001b[38;5;28;01mNone\u001b[39;00m \u001b[38;5;129;01mand\u001b[39;00m \u001b[38;5;129;01mnot\u001b[39;00m \u001b[38;5;28mself\u001b[39m\u001b[38;5;241m.\u001b[39m_client\u001b[38;5;241m.\u001b[39mCLOUD_PLATFORM_SPACES\\\n\u001b[1;32m   1904\u001b[0m         \u001b[38;5;129;01mand\u001b[39;00m \u001b[38;5;28mself\u001b[39m\u001b[38;5;241m.\u001b[39m_client\u001b[38;5;241m.\u001b[39mICP_35 \u001b[38;5;129;01mis\u001b[39;00m \u001b[38;5;28;01mNone\u001b[39;00m \u001b[38;5;129;01mand\u001b[39;00m \u001b[38;5;28mself\u001b[39m\u001b[38;5;241m.\u001b[39m_client\u001b[38;5;241m.\u001b[39mICP_40 \u001b[38;5;129;01mis\u001b[39;00m \u001b[38;5;28;01mNone\u001b[39;00m \u001b[38;5;129;01mand\u001b[39;00m \u001b[38;5;28mself\u001b[39m\u001b[38;5;241m.\u001b[39m_client\u001b[38;5;241m.\u001b[39mICP_45 \u001b[38;5;129;01mis\u001b[39;00m \u001b[38;5;28;01mNone\u001b[39;00m \\\n\u001b[1;32m   1905\u001b[0m         \u001b[38;5;129;01mand\u001b[39;00m \u001b[38;5;28mself\u001b[39m\u001b[38;5;241m.\u001b[39m_client\u001b[38;5;241m.\u001b[39mICP_46 \u001b[38;5;129;01mis\u001b[39;00m \u001b[38;5;28;01mNone\u001b[39;00m:\n\u001b[1;32m   1906\u001b[0m     \u001b[38;5;28;01mraise\u001b[39;00m WMLClientError(\u001b[38;5;124mu\u001b[39m\u001b[38;5;124m'\u001b[39m\u001b[38;5;124mApplicable only for IBM Cloud Pak® For Data 3.0 onwards\u001b[39m\u001b[38;5;124m'\u001b[39m)\n",
      "\u001b[0;31mWMLClientError\u001b[0m: File with name: 'hotel_reviews_lr_model.tar.gz' already exists."
     ]
    }
   ],
   "source": [
    "client.repository.download(\"abd5826b-6a7b-4e14-8edf-d0e276c63dd8\",\"hotel_reviews_lr_model.tar.gz\")\n"
   ]
  },
  {
   "cell_type": "code",
   "execution_count": 65,
   "id": "035e3920",
   "metadata": {},
   "outputs": [
    {
     "name": "stdout",
     "output_type": "stream",
     "text": [
      "Successfully saved model content to file: 'hotel_reviews_tl_model.tar.gz'\n"
     ]
    },
    {
     "data": {
      "text/plain": [
       "'/home/wsuser/work/hotel_reviews_tl_model.tar.gz'"
      ]
     },
     "execution_count": 65,
     "metadata": {},
     "output_type": "execute_result"
    }
   ],
   "source": [
    "client.repository.download(\"abd5826b-6a7b-4e14-8edf-d0e276c63dd8\",\"hotel_reviews_tl_model.tar.gz\")\n"
   ]
  },
  {
   "cell_type": "code",
   "execution_count": 66,
   "id": "1e168307",
   "metadata": {},
   "outputs": [
    {
     "name": "stdout",
     "output_type": "stream",
     "text": [
      "Successfully saved model content to file: 'hotel_reviews_nb_model1.tar.gz'\n"
     ]
    },
    {
     "data": {
      "text/plain": [
       "'/home/wsuser/work/hotel_reviews_nb_model1.tar.gz'"
      ]
     },
     "execution_count": 66,
     "metadata": {},
     "output_type": "execute_result"
    }
   ],
   "source": [
    "client.repository.download(\"abd5826b-6a7b-4e14-8edf-d0e276c63dd8\",\"hotel_reviews_nb_model1.tar.gz\")\n"
   ]
  },
  {
   "cell_type": "code",
   "execution_count": 67,
   "id": "b8882c89",
   "metadata": {},
   "outputs": [
    {
     "name": "stdout",
     "output_type": "stream",
     "text": [
      "Successfully saved model content to file: 'hotel_reviews_tn_model.tar.gz'\n"
     ]
    },
    {
     "data": {
      "text/plain": [
       "'/home/wsuser/work/hotel_reviews_tn_model.tar.gz'"
      ]
     },
     "execution_count": 67,
     "metadata": {},
     "output_type": "execute_result"
    }
   ],
   "source": [
    "client.repository.download(\"abd5826b-6a7b-4e14-8edf-d0e276c63dd8\",\"hotel_reviews_tn_model.tar.gz\")\n"
   ]
  },
  {
   "cell_type": "code",
   "execution_count": null,
   "id": "d73ce7d2",
   "metadata": {},
   "outputs": [],
   "source": []
  }
 ],
 "metadata": {
  "kernelspec": {
   "display_name": "Python 3.10",
   "language": "python",
   "name": "python3"
  },
  "language_info": {
   "codemirror_mode": {
    "name": "ipython",
    "version": 3
   },
   "file_extension": ".py",
   "mimetype": "text/x-python",
   "name": "python",
   "nbconvert_exporter": "python",
   "pygments_lexer": "ipython3",
   "version": "3.10.6"
  }
 },
 "nbformat": 4,
 "nbformat_minor": 5
}
